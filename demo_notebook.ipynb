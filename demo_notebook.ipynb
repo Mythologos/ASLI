{
 "metadata": {
  "language_info": {
   "codemirror_mode": {
    "name": "ipython",
    "version": 3
   },
   "file_extension": ".py",
   "mimetype": "text/x-python",
   "name": "python",
   "nbconvert_exporter": "python",
   "pygments_lexer": "ipython3",
   "version": 3
  },
  "orig_nbformat": 2,
  "kernelspec": {
   "name": "python_defaultSpec_1597086046112",
   "display_name": "Python 3.7.5 64-bit ('NLP': conda)"
  }
 },
 "nbformat": 4,
 "nbformat_minor": 2,
 "cells": [
  {
   "cell_type": "markdown",
   "metadata": {},
   "source": [
    "Notebook for exploring the ielex.tsv data in an interactive fashion using the functions in process_data.py"
   ]
  },
  {
   "cell_type": "code",
   "execution_count": 12,
   "metadata": {},
   "outputs": [],
   "source": [
    "import process_data\n",
    "\n",
    "dataset_path = 'data/ielex.tsv'"
   ]
  },
  {
   "cell_type": "code",
   "execution_count": 3,
   "metadata": {},
   "outputs": [],
   "source": [
    "old_norse_iso_code = 'non'\n",
    "# non: Old Norse, isl: Icelandic, fao: Faroese, swe: Swedish, dan: Danish, nor: Norwegian\n",
    "nordic_iso_codes = {'isl', 'fao', 'swe', 'dan', 'nor'}"
   ]
  },
  {
   "cell_type": "code",
   "execution_count": 4,
   "metadata": {},
   "outputs": [],
   "source": [
    "latin_iso_code = 'lat'\n",
    "# lat: Latin, spa: Spanish, por: Portuguese, fra: French, ita: Italian\n",
    "romance_iso_codes = {'spa', 'por', 'fra', 'ita'}"
   ]
  },
  {
   "cell_type": "code",
   "execution_count": 6,
   "metadata": {
    "tags": []
   },
   "outputs": [
    {
     "output_type": "stream",
     "name": "stdout",
     "text": "por : 131\nspa : 134\nita : 147\nfra : 135\n"
    }
   ],
   "source": [
    "romance_cognate_pair_dicts = process_data.filter_subfamily(latin_iso_code, romance_iso_codes)\n",
    "\n",
    "# for each daughter lang, count the number of attested cognates. We'll pick the top two, training the model on parent -> daughter_1 and benchmark performance on parent -> daughter_2\n",
    "for lang in romance_cognate_pair_dicts:\n",
    "    print(lang, ':', len(romance_cognate_pair_dicts[lang]))"
   ]
  },
  {
   "cell_type": "code",
   "execution_count": 7,
   "metadata": {
    "tags": []
   },
   "outputs": [
    {
     "output_type": "stream",
     "name": "stdout",
     "text": "(['LATIN', 'lat', 'come', '1446', 'come', 'weˈniːre', 'come:B', 'w e ˈn iː r e', ''], ['ITALIAN', 'ita', 'come', '1446', 'come', 'venire', 'come:B', 'v e n i r e', ''])\n(['LATIN', 'lat', 'snow', '784', 'snow', 'niks', 'snow:B', 'n i k s', ''], ['ITALIAN', 'ita', 'snow', '784', 'snow', 'neve', 'snow:B', 'n e v e', ''])\n(['LATIN', 'lat', 'sing', '1261', 'sing', 'ˈkanere', 'sing:D', 'ˈk a n e r e', ''], ['ITALIAN', 'ita', 'sing', '1261', 'sing', 'kantare', 'sing:D', 'k a n t a r e', ''])\n(['LATIN', 'lat', 'tail', '1220', 'tail', 'ˈkau̯da', 'tail:F', 'ˈk a u̯ d a', ''], ['ITALIAN', 'ita', 'tail', '1220', 'tail', 'koda', 'tail:F', 'k o d a', ''])\n(['LATIN', 'lat', 'die', '1494', 'die', 'ˈmoriː', 'die:A', 'ˈm o r iː', ''], ['ITALIAN', 'ita', 'die', '1494', 'die', 'morire', 'die:A', 'm o r i r e', ''])\n(['LATIN', 'lat', 'cold', '1287', 'cold', 'ˈfriːgidus', 'cold:E', 'ˈf r iː g i d u s', ''], ['ITALIAN', 'ita', 'cold', '1287', 'cold', 'freddo', 'cold:E', 'f r e dd o', ''])\n(['LATIN', 'lat', 'name', '1405', 'name', 'ˈnoːmen', 'name:A', 'ˈn oː m e n', ''], ['ITALIAN', 'ita', 'name', '1405', 'name', 'nome', 'name:A', 'n o m e', ''])\n(['LATIN', 'lat', 'water', '948', 'water', 'ˈakʷa', 'water:E', 'ˈa kʷ a', ''], ['ITALIAN', 'ita', 'water', '948', 'water', 'akkwa', 'water:E', 'a kk w a', ''])\n(['LATIN', 'lat', 'what', '1236', 'what', 'kʷid', 'what:A', 'kʷ i d', ''], ['ITALIAN', 'ita', 'what', '1236', 'what', 'ke', 'what:A', 'k e', ''])\n(['LATIN', 'lat', 'kill', '1417', 'kill', 'oˈkːiːdere', 'kill:O', 'o ˈkː iː d e r e', ''], ['ITALIAN', 'ita', 'kill', '1417', 'kill', 'uttʃidere', 'kill:O', 'u tt ʃ i d e r e', ''])\n"
    }
   ],
   "source": [
    "# sample some data to examine\n",
    "for k in list(romance_cognate_pair_dicts['ita'])[:10]:\n",
    "    print(romance_cognate_pair_dicts['ita'][k])"
   ]
  },
  {
   "cell_type": "code",
   "execution_count": 8,
   "metadata": {
    "tags": []
   },
   "outputs": [
    {
     "output_type": "stream",
     "name": "stdout",
     "text": "fao : 203\ndan : 194\nisl : 205\nswe : 195\nnor : 199\n"
    }
   ],
   "source": [
    "nordic_cognate_pair_dicts = process_data.filter_subfamily(old_norse_iso_code, nordic_iso_codes)\n",
    "\n",
    "for lang in nordic_cognate_pair_dicts:\n",
    "    print(lang, ':', len(nordic_cognate_pair_dicts[lang]))"
   ]
  },
  {
   "cell_type": "code",
   "execution_count": 9,
   "metadata": {
    "tags": []
   },
   "outputs": [
    {
     "output_type": "stream",
     "name": "stdout",
     "text": "(['OLD_NORSE', 'non', 'sharp', '1396', 'sharp', 'skarpr', 'sharp:B', 's k a r p r', ''], ['SWEDISH', 'swe', 'sharp', '1396', 'sharp', 'skarp', 'sharp:B', 's k a r p', ''])\n(['OLD_NORSE', 'non', 'come', '1446', 'come', 'ˈkoma', 'come:B', 'ˈk o m a', ''], ['SWEDISH', 'swe', 'come', '1446', 'come', 'ˈkɔ̀mːa', 'come:B', 'ˈk ɔ̀ mː a', ''])\n(['OLD_NORSE', 'non', 'yellow', '1424', 'yellow', 'ɡulr', 'yellow:A', 'ɡ u l r', ''], ['SWEDISH', 'swe', 'yellow', '1424', 'yellow', 'ɡʉːl', 'yellow:A', 'ɡ ʉː l', ''])\n(['OLD_NORSE', 'non', 'snow', '784', 'snow', 'snjoːr', 'snow:B', 's n j oː r', ''], ['SWEDISH', 'swe', 'snow', '784', 'snow', 'snøː', 'snow:B', 's n øː', ''])\n(['OLD_NORSE', 'non', 'sing', '1261', 'sing', 'ˈsynɣva', 'sing:B', 'ˈs y n ɣ v a', ''], ['SWEDISH', 'swe', 'sing', '1261', 'sing', 'ˈɧɵ̀ŋːa', 'sing:B', 'ˈɧ ɵ̀ ŋː a', ''])\n(['OLD_NORSE', 'non', 'tail', '1220', 'tail', 'stertr', 'tail:B', 's t e r t r', ''], ['SWEDISH', 'swe', 'tail', '1220', 'tail', 'ɧæʈː', 'tail:B', 'ɧ æ ʈː', ''])\n(['OLD_NORSE', 'non', 'die', '1494', 'die', 'ˈdɛyja', 'die:B', 'ˈd ɛ y j a', ''], ['SWEDISH', 'swe', 'die', '1494', 'die', 'dø:', 'die:B', 'd ø:', ''])\n(['OLD_NORSE', 'non', 'cold', '1287', 'cold', 'kaldr', 'cold:B', 'k a l d r', ''], ['SWEDISH', 'swe', 'cold', '1287', 'cold', 'kalː', 'cold:B', 'k a lː', ''])\n(['OLD_NORSE', 'non', 'name', '1405', 'name', 'nafn', 'name:A', 'n a f n', ''], ['SWEDISH', 'swe', 'name', '1405', 'name', 'namn', 'name:A', 'n a m n', ''])\n(['OLD_NORSE', 'non', 'stick', '1295', 'stick', 'stavr', 'stick:D', 's t a v r', ''], ['SWEDISH', 'swe', 'stick', '1295', 'stick', 'stɑːv', 'stick:D', 's t ɑː v', ''])\n"
    }
   ],
   "source": [
    "for k in list(nordic_cognate_pair_dicts['swe'])[:10]:\n",
    "    print(nordic_cognate_pair_dicts['swe'][k])"
   ]
  },
  {
   "cell_type": "code",
   "execution_count": 11,
   "metadata": {},
   "outputs": [],
   "source": [
    "file_path = 'Old_Norse-Icelandic Cognateses'\n",
    "\n",
    "process_data.save_dataset(nordic_cognate_pair_dicts['isl'], file_path)"
   ]
  },
  {
   "cell_type": "code",
   "execution_count": null,
   "metadata": {},
   "outputs": [],
   "source": []
  }
 ]
}